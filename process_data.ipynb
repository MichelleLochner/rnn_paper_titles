{
 "cells": [
  {
   "cell_type": "code",
   "execution_count": 1,
   "metadata": {
    "collapsed": false
   },
   "outputs": [],
   "source": [
    "import numpy as np\n",
    "import matplotlib.pyplot as plt\n",
    "import glob\n",
    "import time"
   ]
  },
  {
   "cell_type": "code",
   "execution_count": 2,
   "metadata": {
    "collapsed": true
   },
   "outputs": [],
   "source": [
    "rt = 'hep-th-abs/'"
   ]
  },
  {
   "cell_type": "code",
   "execution_count": 3,
   "metadata": {
    "collapsed": false
   },
   "outputs": [],
   "source": [
    "dirs = glob.glob(rt+'*')"
   ]
  },
  {
   "cell_type": "code",
   "execution_count": 4,
   "metadata": {
    "collapsed": false
   },
   "outputs": [
    {
     "name": "stdout",
     "output_type": "stream",
     "text": [
      "hep-th-abs/1995/9504137.abs\n",
      "Time taken for  29555 files: 4.88855767250061\n"
     ]
    }
   ],
   "source": [
    "tfile = open('titles.txt', 'w')\n",
    "t1 = time.time()\n",
    "nfiles = 0\n",
    "bad_ones = 0\n",
    "max_char = 6000\n",
    "for d in dirs:\n",
    "    fls = glob.glob(d+'/*')\n",
    "    for f in fls:\n",
    "        fl = open(f, 'r')\n",
    "        lns = fl.readlines()\n",
    "        fl.close()\n",
    "        for i in range(len(lns)):\n",
    "            if 'Title' in lns[i]:\n",
    "                start_ind = i\n",
    "            if 'Author' in lns[i] or 'Comments' in lns[i]:\n",
    "                stop_ind = i\n",
    "                break\n",
    "        \n",
    "        try:\n",
    "            titl_str = lns[start_ind].split('Title: ')[1].strip('\\n')\n",
    "        except IndexError:\n",
    "            print(f)\n",
    "            bad_ones+=1\n",
    "        \n",
    "        if start_ind != stop_ind:\n",
    "            for j in range(start_ind+1, stop_ind):\n",
    "                titl_str += lns[j][:-1].strip('\\n')\n",
    "        if len(titl_str)<max_char:\n",
    "            tfile.write(titl_str + '\\n')\n",
    "\n",
    "        nfiles+=1\n",
    "tfile.close()\n",
    "print('Time taken for ', nfiles, 'files:', time.time()-t1)\n"
   ]
  },
  {
   "cell_type": "code",
   "execution_count": null,
   "metadata": {
    "collapsed": true
   },
   "outputs": [],
   "source": []
  }
 ],
 "metadata": {
  "anaconda-cloud": {},
  "kernelspec": {
   "display_name": "Python [conda env:py3]",
   "language": "python",
   "name": "conda-env-py3-py"
  },
  "language_info": {
   "codemirror_mode": {
    "name": "ipython",
    "version": 3
   },
   "file_extension": ".py",
   "mimetype": "text/x-python",
   "name": "python",
   "nbconvert_exporter": "python",
   "pygments_lexer": "ipython3",
   "version": "3.5.2"
  }
 },
 "nbformat": 4,
 "nbformat_minor": 2
}
