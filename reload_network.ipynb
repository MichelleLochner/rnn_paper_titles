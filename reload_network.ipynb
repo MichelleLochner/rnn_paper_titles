{
 "cells": [
  {
   "cell_type": "code",
   "execution_count": 10,
   "metadata": {
    "collapsed": true
   },
   "outputs": [],
   "source": [
    "import tflearn\n",
    "from tflearn.data_utils import *\n",
    "import tensorflow as tf"
   ]
  },
  {
   "cell_type": "code",
   "execution_count": 11,
   "metadata": {
    "collapsed": false
   },
   "outputs": [
    {
     "name": "stdout",
     "output_type": "stream",
     "text": [
      "Vectorizing text...\n",
      "Text total length: 710,368\n",
      "Distinct chars   : 93\n",
      "Total sequences  : 236,766\n"
     ]
    }
   ],
   "source": [
    "char_lim = 70\n",
    "title_file = 'titles_%d_char_lim.txt' %char_lim\n",
    "\n",
    "tf.reset_default_graph()\n",
    "\n",
    "maxlen = char_lim\n",
    "\n",
    "string_utf8 = open(title_file, \"r\").read()\n",
    "X, Y, char_idx = \\\n",
    "    textfile_to_semi_redundant_sequences(path, seq_maxlen=maxlen, redun_step=3)\n",
    "\n",
    "g = tflearn.input_data(shape=[None, maxlen, len(char_idx)])\n",
    "g = tflearn.lstm(g, 512, return_seq=True)\n",
    "g = tflearn.dropout(g, 0.5)\n",
    "g = tflearn.lstm(g, 512)\n",
    "g = tflearn.dropout(g, 0.5)\n",
    "g = tflearn.fully_connected(g, len(char_idx), activation='softmax')\n",
    "g = tflearn.regression(g, optimizer='adam', loss='categorical_crossentropy',\n",
    "                       learning_rate=0.001)\n",
    "\n",
    "m = tflearn.SequenceGenerator(g, dictionary=char_idx,\n",
    "                              seq_maxlen=maxlen,\n",
    "                              clip_gradients=5.0,\n",
    "                              checkpoint_path='titles')"
   ]
  },
  {
   "cell_type": "code",
   "execution_count": 12,
   "metadata": {
    "collapsed": true
   },
   "outputs": [],
   "source": [
    "m.load('rnn_v2_batch_size_256')"
   ]
  },
  {
   "cell_type": "code",
   "execution_count": 13,
   "metadata": {
    "collapsed": false
   },
   "outputs": [
    {
     "name": "stdout",
     "output_type": "stream",
     "text": [
      "b'rature and Parity Anomaly in D=3\\nThe Exact Solution of Born-Infeld Theories\\nString tocomody supersym'\n"
     ]
    }
   ],
   "source": [
    "print(m.generate(30, temperature=0.86, seq_seed=random_sequence_from_string(string_utf8, maxlen)).encode('utf-8'))"
   ]
  },
  {
   "cell_type": "code",
   "execution_count": 27,
   "metadata": {
    "collapsed": false
   },
   "outputs": [
    {
     "name": "stdout",
     "output_type": "stream",
     "text": [
      "b'Dualities\n",
      "Operational Discrete Symmetries and CP-Violation\n",
      "Observabilies for Fonstanting Complepant and topological Pauter Antion To Mall String\n",
      "Theor'\n",
      "\n",
      "b'm Criticality\n",
      "Self Duality and Quantization\n",
      "\"Peireles Substitution\" and Ligher The Colrelgs and Tomp\n",
      "Supersymmetry and String Theory\n",
      "Supergeneral Form'\n",
      "\n",
      "b'y\n",
      "Some Comments on Gravitational Entropy and the Inverse Mean Curvature systems\n",
      "The couplic Probles of coupler symmetric Dimensions of the and reometr'\n",
      "\n",
      "b'assive Fundamental Matters\n",
      "Current Algebra in the Path Integral framew Analge the Sold and Intection\n",
      "Cond the the Gesormation of the Evections\n",
      "and Lig'\n",
      "\n",
      "b\"nsional Quantum Poincar\\\\'E Group\n",
      "On equivalence of Floer's and quantum string theory of the K String Loco on Cotrection in the Resting entration of Co\"\n",
      "\n"
     ]
    }
   ],
   "source": [
    "for i in range(5):\n",
    "    s = m.generate(80, temperature=0.6, seq_seed=random_sequence_from_string(string_utf8, maxlen)).encode('utf-8')\n",
    "    print(*str(s).split('\\\\n'), sep='\\n')\n",
    "    print()"
   ]
  },
  {
   "cell_type": "code",
   "execution_count": null,
   "metadata": {
    "collapsed": true
   },
   "outputs": [],
   "source": []
  }
 ],
 "metadata": {
  "anaconda-cloud": {},
  "kernelspec": {
   "display_name": "Python [conda env:py3]",
   "language": "python",
   "name": "conda-env-py3-py"
  },
  "language_info": {
   "codemirror_mode": {
    "name": "ipython",
    "version": 3
   },
   "file_extension": ".py",
   "mimetype": "text/x-python",
   "name": "python",
   "nbconvert_exporter": "python",
   "pygments_lexer": "ipython3",
   "version": "3.5.2"
  }
 },
 "nbformat": 4,
 "nbformat_minor": 2
}
