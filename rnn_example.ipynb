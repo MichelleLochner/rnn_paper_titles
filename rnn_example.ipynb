{
 "cells": [
  {
   "cell_type": "markdown",
   "metadata": {},
   "source": [
    "# Example Recurrent Neural Network in tflearn\n",
    "\n",
    "Largely taken from:\n",
    "\n",
    "https://github.com/tflearn/tflearn/blob/master/examples/nlp/lstm_generator_cityname.py\n",
    "https://github.com/tflearn/tflearn/blob/master/examples/nlp/lstm_generator_shakespeare.py\n",
    "\n",
    "A really nice introduction: http://colah.github.io/posts/2015-08-Understanding-LSTMs/"
   ]
  },
  {
   "cell_type": "code",
   "execution_count": 43,
   "metadata": {
    "collapsed": false
   },
   "outputs": [],
   "source": [
    "import numpy as np\n",
    "import matplotlib as plt\n",
    "import tflearn \n",
    "\n",
    "import os\n",
    "from six import moves\n",
    "import ssl\n",
    "from tflearn.data_utils import *\n",
    "import tensorflow as tf"
   ]
  },
  {
   "cell_type": "code",
   "execution_count": 86,
   "metadata": {
    "collapsed": true
   },
   "outputs": [],
   "source": [
    "char_lim = 70\n",
    "title_file = 'titles_%d_char_lim.txt' %char_lim"
   ]
  },
  {
   "cell_type": "code",
   "execution_count": 87,
   "metadata": {
    "collapsed": false
   },
   "outputs": [
    {
     "name": "stdout",
     "output_type": "stream",
     "text": [
      "20779\n",
      "70\n"
     ]
    }
   ],
   "source": [
    "fl = open(title_file, 'r')\n",
    "tls = fl.readlines()\n",
    "fl.close()\n",
    "max_len = 0\n",
    "for t in tls[:200]:\n",
    "    if len(t) > max_len:\n",
    "        max_len = len(t)\n",
    "#     print(t)\n",
    "print(len(tls))\n",
    "print(max_len)"
   ]
  },
  {
   "cell_type": "markdown",
   "metadata": {
    "collapsed": true
   },
   "source": [
    "Convert example data"
   ]
  },
  {
   "cell_type": "code",
   "execution_count": 88,
   "metadata": {
    "collapsed": false
   },
   "outputs": [
    {
     "name": "stdout",
     "output_type": "stream",
     "text": [
      "Vectorizing text...\n",
      "Text total length: 1,033,082\n",
      "Distinct chars   : 93\n",
      "Total sequences  : 344,338\n"
     ]
    }
   ],
   "source": [
    "#path = \"US_Cities.txt\"\n",
    "#path = \"titles.txt\"\n",
    "path = title_file\n",
    "\n",
    "maxlen = char_lim\n",
    "\n",
    "string_utf8 = open(path, \"r\").read()\n",
    "X, Y, char_idx = \\\n",
    "    textfile_to_semi_redundant_sequences(path, seq_maxlen=maxlen, redun_step=3)"
   ]
  },
  {
   "cell_type": "code",
   "execution_count": 89,
   "metadata": {
    "collapsed": false
   },
   "outputs": [],
   "source": [
    "tf.reset_default_graph()"
   ]
  },
  {
   "cell_type": "code",
   "execution_count": 90,
   "metadata": {
    "collapsed": false
   },
   "outputs": [],
   "source": [
    "batch_size = 256\n",
    "\n",
    "g = tflearn.input_data(shape=[None, maxlen, len(char_idx)])\n",
    "g = tflearn.lstm(g, 512, return_seq=True)\n",
    "g = tflearn.dropout(g, 0.5)\n",
    "g = tflearn.lstm(g, 512)\n",
    "g = tflearn.dropout(g, 0.5)\n",
    "g = tflearn.fully_connected(g, len(char_idx), activation='softmax')\n",
    "g = tflearn.regression(g, optimizer='adam', loss='categorical_crossentropy',\n",
    "                       learning_rate=0.001)\n",
    "\n",
    "m = tflearn.SequenceGenerator(g, dictionary=char_idx,\n",
    "                              seq_maxlen=maxlen,\n",
    "                              clip_gradients=5.0,\n",
    "                              checkpoint_path='titles_%d' %batch_size)"
   ]
  },
  {
   "cell_type": "code",
   "execution_count": 64,
   "metadata": {
    "collapsed": false
   },
   "outputs": [],
   "source": [
    "#m.load('rnn_batch_size_128')"
   ]
  },
  {
   "cell_type": "code",
   "execution_count": 91,
   "metadata": {
    "collapsed": false
   },
   "outputs": [
    {
     "name": "stdout",
     "output_type": "stream",
     "text": [
      "Training Step: 3632  | total loss: \u001b[1m\u001b[32m1.52675\u001b[0m\u001b[0m | time: 11196.233s\n",
      "| Adam | epoch: 003 | loss: 1.52675 -- iter: 309760/309904\n",
      "Training Step: 3633  | total loss: \u001b[1m\u001b[32m1.53117\u001b[0m\u001b[0m | time: 11722.556s\n",
      "| Adam | epoch: 003 | loss: 1.53117 | val_loss: 1.45796 -- iter: 309904/309904\n",
      "--\n",
      "INFO:tensorflow:/home/michelle/Dropbox/Project/JEDI_2017/titles_256-3633 is not in all_model_checkpoint_paths. Manually adding it.\n",
      "WARNING:tensorflow:Error encountered when serializing layer_tensor/LSTM.\n",
      "Type is unsupported, or the types of the items don't match field type in CollectionDef.\n",
      "'list' object has no attribute 'name'\n",
      "WARNING:tensorflow:Error encountered when serializing layer_tensor/Dropout.\n",
      "Type is unsupported, or the types of the items don't match field type in CollectionDef.\n",
      "'list' object has no attribute 'name'\n",
      "-- TESTING...\n",
      "-- Test with temperature of 1.2 --\n",
      "b'ranes in AdS3 spacetime\\nOn Type IIA String Theory on the PP-wave Backgers equetric for ondtrian Conr'\n",
      "-- Test with temperature of 1.0 --\n",
      "b'ranes in AdS3 spacetime\\nOn Type IIA String Theory on the PP-wave Backgrounds Micres vax D5ent Field '\n",
      "-- Test with temperature of 0.5 --\n",
      "b'ranes in AdS3 spacetime\\nOn Type IIA String Theory on the PP-wave Background Theory\\nConstructions\\nThe'\n"
     ]
    }
   ],
   "source": [
    "seed = random_sequence_from_string(string_utf8, maxlen)\n",
    "m.fit(X, Y, validation_set=0.1, batch_size=batch_size,\n",
    "      n_epoch=3, run_id='titles_%d' %batch_size)\n",
    "print(\"-- TESTING...\")\n",
    "print(\"-- Test with temperature of 1.2 --\")\n",
    "print(m.generate(30, temperature=1.2, seq_seed=seed).encode('utf-8'))\n",
    "print(\"-- Test with temperature of 1.0 --\")\n",
    "print(m.generate(30, temperature=1.0, seq_seed=seed).encode('utf-8'))\n",
    "print(\"-- Test with temperature of 0.5 --\")\n",
    "print(m.generate(30, temperature=0.5, seq_seed=seed).encode('utf-8'))"
   ]
  },
  {
   "cell_type": "code",
   "execution_count": 92,
   "metadata": {
    "collapsed": false
   },
   "outputs": [
    {
     "name": "stdout",
     "output_type": "stream",
     "text": [
      "INFO:tensorflow:/home/michelle/Dropbox/Project/JEDI_2017/rnn_v2_batch_size_256 is not in all_model_checkpoint_paths. Manually adding it.\n",
      "WARNING:tensorflow:Error encountered when serializing layer_tensor/LSTM.\n",
      "Type is unsupported, or the types of the items don't match field type in CollectionDef.\n",
      "'list' object has no attribute 'name'\n",
      "WARNING:tensorflow:Error encountered when serializing layer_tensor/Dropout.\n",
      "Type is unsupported, or the types of the items don't match field type in CollectionDef.\n",
      "'list' object has no attribute 'name'\n"
     ]
    }
   ],
   "source": [
    "m.save('rnn_v2_batch_size_256')"
   ]
  },
  {
   "cell_type": "code",
   "execution_count": null,
   "metadata": {
    "collapsed": true
   },
   "outputs": [],
   "source": []
  }
 ],
 "metadata": {
  "anaconda-cloud": {},
  "kernelspec": {
   "display_name": "Python [conda env:py3]",
   "language": "python",
   "name": "conda-env-py3-py"
  },
  "language_info": {
   "codemirror_mode": {
    "name": "ipython",
    "version": 3
   },
   "file_extension": ".py",
   "mimetype": "text/x-python",
   "name": "python",
   "nbconvert_exporter": "python",
   "pygments_lexer": "ipython3",
   "version": "3.5.2"
  }
 },
 "nbformat": 4,
 "nbformat_minor": 2
}
